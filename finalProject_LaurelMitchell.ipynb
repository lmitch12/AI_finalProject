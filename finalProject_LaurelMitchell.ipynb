{
 "cells": [
  {
   "cell_type": "markdown",
   "id": "1cb47b4c",
   "metadata": {},
   "source": [
    "# Building a LLM to help students study for finals\n",
    "Problems to solve:\n",
    "- How will I train the model?\n",
    "- Can I use it generally to study for any class or would it work better if specific to one class?\n",
    "- What libraries should I use? Explore Hugging Face transformers?"
   ]
  },
  {
   "cell_type": "markdown",
   "id": "95debd0f",
   "metadata": {},
   "source": [
    "# My problem: \n",
    "I want to use a LLM to help me study for finals, specifically my algorithms final. I want my bot to be able to read the textbook, ask me sample questions, and explain topics in a way that is simple but includes enough details."
   ]
  },
  {
   "cell_type": "code",
   "execution_count": null,
   "id": "1f903958",
   "metadata": {},
   "outputs": [],
   "source": []
  }
 ],
 "metadata": {
  "kernelspec": {
   "display_name": "base",
   "language": "python",
   "name": "python3"
  },
  "language_info": {
   "codemirror_mode": {
    "name": "ipython",
    "version": 3
   },
   "file_extension": ".py",
   "mimetype": "text/x-python",
   "name": "python",
   "nbconvert_exporter": "python",
   "pygments_lexer": "ipython3",
   "version": "3.12.3"
  }
 },
 "nbformat": 4,
 "nbformat_minor": 5
}
